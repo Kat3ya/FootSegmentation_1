{
  "nbformat": 4,
  "nbformat_minor": 0,
  "metadata": {
    "colab": {
      "provenance": [],
      "gpuType": "T4",
      "authorship_tag": "ABX9TyOygxkRDRj775TvNArDmQNM",
      "include_colab_link": true
    },
    "kernelspec": {
      "name": "python3",
      "display_name": "Python 3"
    },
    "language_info": {
      "name": "python"
    },
    "accelerator": "GPU"
  },
  "cells": [
    {
      "cell_type": "markdown",
      "metadata": {
        "id": "view-in-github",
        "colab_type": "text"
      },
      "source": [
        "<a href=\"https://colab.research.google.com/github/Adrian040/FootSegmentation_4/blob/main/U_Net_tf_lite.ipynb\" target=\"_parent\"><img src=\"https://colab.research.google.com/assets/colab-badge.svg\" alt=\"Open In Colab\"/></a>"
      ]
    },
    {
      "cell_type": "code",
      "source": [
        "pip install tensorflow_model_optimization"
      ],
      "metadata": {
        "colab": {
          "base_uri": "https://localhost:8080/"
        },
        "id": "C4DniNoLr1n8",
        "outputId": "905ab4af-f0ce-4eaf-8cc1-ef64977c46fd"
      },
      "execution_count": 1,
      "outputs": [
        {
          "output_type": "stream",
          "name": "stdout",
          "text": [
            "Collecting tensorflow_model_optimization\n",
            "  Downloading tensorflow_model_optimization-0.8.0-py2.py3-none-any.whl.metadata (904 bytes)\n",
            "Requirement already satisfied: absl-py~=1.2 in /usr/local/lib/python3.10/dist-packages (from tensorflow_model_optimization) (1.4.0)\n",
            "Requirement already satisfied: dm-tree~=0.1.1 in /usr/local/lib/python3.10/dist-packages (from tensorflow_model_optimization) (0.1.8)\n",
            "Requirement already satisfied: numpy~=1.23 in /usr/local/lib/python3.10/dist-packages (from tensorflow_model_optimization) (1.26.4)\n",
            "Requirement already satisfied: six~=1.14 in /usr/local/lib/python3.10/dist-packages (from tensorflow_model_optimization) (1.16.0)\n",
            "Downloading tensorflow_model_optimization-0.8.0-py2.py3-none-any.whl (242 kB)\n",
            "\u001b[?25l   \u001b[90m━━━━━━━━━━━━━━━━━━━━━━━━━━━━━━━━━━━━━━━━\u001b[0m \u001b[32m0.0/242.5 kB\u001b[0m \u001b[31m?\u001b[0m eta \u001b[36m-:--:--\u001b[0m\r\u001b[2K   \u001b[91m━━━━━━━━━━━━━━━━━━━━━━━━━━━━━━━━━━━━━━\u001b[0m\u001b[91m╸\u001b[0m\u001b[90m━\u001b[0m \u001b[32m235.5/242.5 kB\u001b[0m \u001b[31m8.5 MB/s\u001b[0m eta \u001b[36m0:00:01\u001b[0m\r\u001b[2K   \u001b[90m━━━━━━━━━━━━━━━━━━━━━━━━━━━━━━━━━━━━━━━━\u001b[0m \u001b[32m242.5/242.5 kB\u001b[0m \u001b[31m3.6 MB/s\u001b[0m eta \u001b[36m0:00:00\u001b[0m\n",
            "\u001b[?25hInstalling collected packages: tensorflow_model_optimization\n",
            "Successfully installed tensorflow_model_optimization-0.8.0\n"
          ]
        }
      ]
    },
    {
      "cell_type": "code",
      "execution_count": 2,
      "metadata": {
        "id": "LSKNmjrtFeQu"
      },
      "outputs": [],
      "source": [
        "import tensorflow as tf\n",
        "import tensorflow_model_optimization as tfmot\n",
        "from tensorflow.keras.layers import Input, Conv2D, MaxPooling2D, UpSampling2D, concatenate\n",
        "from tensorflow.keras.models import Model\n",
        "import numpy as np\n",
        "from PIL import Image\n",
        "import os"
      ]
    },
    {
      "cell_type": "markdown",
      "source": [
        "# **Funciones:**"
      ],
      "metadata": {
        "id": "iALnhMP-0CNv"
      }
    },
    {
      "cell_type": "markdown",
      "source": [
        "### Entrenamiento de la U-Net:"
      ],
      "metadata": {
        "id": "PKD0fdGkl1tv"
      }
    },
    {
      "cell_type": "code",
      "source": [
        "def load_images(image_paths):\n",
        "    return np.array([np.array(Image.open(img).convert('RGB')) for img in image_paths])\n",
        "\n",
        "def load_masks(mask_paths):\n",
        "    return np.array([np.array(Image.open(mask).convert('L')) for mask in mask_paths])\n",
        "\n",
        "def unet_model(input_shape):\n",
        "    inputs = Input(input_shape)\n",
        "\n",
        "    # Downsampling path\n",
        "    c1 = Conv2D(64, (3, 3), activation='relu', padding='same')(inputs)\n",
        "    p1 = MaxPooling2D((2, 2))(c1)\n",
        "\n",
        "    c2 = Conv2D(128, (3, 3), activation='relu', padding='same')(p1)\n",
        "    p2 = MaxPooling2D((2, 2))(c2)\n",
        "\n",
        "    c3 = Conv2D(256, (3, 3), activation='relu', padding='same')(p2)\n",
        "    p3 = MaxPooling2D((2, 2))(c3)\n",
        "\n",
        "    c4 = Conv2D(512, (3, 3), activation='relu', padding='same')(p3)\n",
        "    p4 = MaxPooling2D((2, 2))(c4)\n",
        "\n",
        "    c5 = Conv2D(1024, (3, 3), activation='relu', padding='same')(p4)\n",
        "\n",
        "    # Upsampling path\n",
        "    u6 = UpSampling2D((2, 2))(c5)\n",
        "    u6 = concatenate([u6, c4])\n",
        "    c6 = Conv2D(512, (3, 3), activation='relu', padding='same')(u6)\n",
        "\n",
        "    u7 = UpSampling2D((2, 2))(c6)\n",
        "    u7 = concatenate([u7, c3])\n",
        "    c7 = Conv2D(256, (3, 3), activation='relu', padding='same')(u7)\n",
        "\n",
        "    u8 = UpSampling2D((2, 2))(c7)\n",
        "    u8 = concatenate([u8, c2])\n",
        "    c8 = Conv2D(128, (3, 3), activation='relu', padding='same')(u8)\n",
        "\n",
        "    u9 = UpSampling2D((2, 2))(c8)\n",
        "    u9 = concatenate([u9, c1])\n",
        "    c9 = Conv2D(64, (3, 3), activation='relu', padding='same')(u9)\n",
        "\n",
        "    outputs = Conv2D(1, (1, 1), activation='sigmoid')(c9)\n",
        "\n",
        "    return Model(inputs, outputs)\n",
        "\n",
        "def train_unet_model(image_paths, mask_paths, input_shape=(128, 128, 3), batch_size=16, epochs=50):\n",
        "    images = load_images(image_paths)\n",
        "    masks = load_masks(mask_paths)\n",
        "\n",
        "    # Normalize images and masks\n",
        "    images = images / 255.0\n",
        "    masks = masks / 255.0\n",
        "\n",
        "    model = unet_model(input_shape)\n",
        "    model.compile(optimizer='adam', loss='binary_crossentropy', metrics=['accuracy'])\n",
        "\n",
        "    model.fit(images, masks, batch_size=batch_size, epochs=epochs, validation_split=0.1)\n",
        "\n",
        "    # Convert to TensorFlow Lite\n",
        "    converter = tf.lite.TFLiteConverter.from_keras_model(model)\n",
        "    tflite_model = converter.convert()\n",
        "\n",
        "    # Save the model\n",
        "    with open('unet_model.tflite', 'wb') as f:\n",
        "        f.write(tflite_model)\n",
        "\n",
        "    return tflite_model\n"
      ],
      "metadata": {
        "id": "tVTZ4yy1mAoY"
      },
      "execution_count": 3,
      "outputs": []
    },
    {
      "cell_type": "code",
      "source": [],
      "metadata": {
        "id": "uNJWtax7sT7p"
      },
      "execution_count": null,
      "outputs": []
    },
    {
      "cell_type": "markdown",
      "source": [
        "### Predicción de segmentación de una imágen nueva:"
      ],
      "metadata": {
        "id": "bLkqs8mlsYWE"
      }
    },
    {
      "cell_type": "code",
      "source": [
        "import numpy as np\n",
        "from PIL import Image\n",
        "import tensorflow as tf\n",
        "\n",
        "def predict_mask(image_path, tflite_model_path):\n",
        "    # Load and preprocess the image\n",
        "    image = Image.open(image_path).convert('RGB')\n",
        "    input_data = np.array(image) / 255.0\n",
        "    input_data = np.expand_dims(input_data, axis=0).astype(np.float32)\n",
        "\n",
        "    # Load the TFLite model and allocate tensors\n",
        "    interpreter = tf.lite.Interpreter(model_path=tflite_model_path)\n",
        "    interpreter.allocate_tensors()\n",
        "\n",
        "    input_details = interpreter.get_input_details()\n",
        "    output_details = interpreter.get_output_details()\n",
        "\n",
        "    # Set the input tensor\n",
        "    interpreter.set_tensor(input_details[0]['index'], input_data)\n",
        "\n",
        "    # Run inference\n",
        "    interpreter.invoke()\n",
        "\n",
        "    # Get the output (predicted mask)\n",
        "    mask = interpreter.get_tensor(output_details[0]['index'])[0]\n",
        "\n",
        "    # Ensure mask has correct dimensions and type\n",
        "    mask = np.squeeze(mask)  # Remove unnecessary dimensions\n",
        "    mask = (mask > 0.5).astype(np.uint8)  # Threshold to binary mask (0 or 1)\n",
        "\n",
        "    # Convert the mask to 3 channels to match the RGB image\n",
        "    mask_3channel = np.stack([mask] * 3, axis=-1)\n",
        "\n",
        "    # Apply the mask to the original image (preserving colors)\n",
        "    segmented_image = np.array(image) * mask_3channel\n",
        "\n",
        "    # Convert back to PIL Image for consistency\n",
        "    mask_image = Image.fromarray(mask * 255)  # Convert mask to 8-bit image\n",
        "    segmented_image = Image.fromarray(segmented_image)\n",
        "\n",
        "    return mask_image, segmented_image\n",
        "\n"
      ],
      "metadata": {
        "id": "_gK1JMxV0Qm-"
      },
      "execution_count": 4,
      "outputs": []
    },
    {
      "cell_type": "markdown",
      "source": [
        "Métricas para evaluar la Unet:"
      ],
      "metadata": {
        "id": "-rsj3V29sjTL"
      }
    },
    {
      "cell_type": "code",
      "source": [
        "from sklearn.metrics import accuracy_score, precision_score, f1_score, roc_auc_score\n",
        "\n",
        "def evaluate_model(X_test, Y_test, tflite_model_path):\n",
        "    dice_scores = []\n",
        "    precisions = []\n",
        "    accuracies = []\n",
        "    aucs = []\n",
        "\n",
        "    interpreter = tf.lite.Interpreter(model_path=tflite_model_path)\n",
        "    interpreter.allocate_tensors()\n",
        "    input_details = interpreter.get_input_details()\n",
        "    output_details = interpreter.get_output_details()\n",
        "\n",
        "    for image_path, mask_path in zip(X_test, Y_test):\n",
        "        # Load and preprocess the image\n",
        "        image = Image.open(image_path).convert('RGB')\n",
        "        input_data = np.array(image) / 255.0\n",
        "        input_data = np.expand_dims(input_data, axis=0).astype(np.float32)\n",
        "\n",
        "        # Set the input tensor\n",
        "        interpreter.set_tensor(input_details[0]['index'], input_data)\n",
        "\n",
        "        # Run inference\n",
        "        interpreter.invoke()\n",
        "\n",
        "        # Get the output (predicted mask)\n",
        "        pred_mask = interpreter.get_tensor(output_details[0]['index'])[0]\n",
        "        pred_mask = (pred_mask > 0.5).astype(np.uint8)\n",
        "\n",
        "        # Load the ground truth mask\n",
        "        true_mask = np.array(Image.open(mask_path).convert('L')) // 255\n",
        "\n",
        "        # Flatten masks for metric calculation\n",
        "        pred_mask_flat = pred_mask.flatten()\n",
        "        true_mask_flat = true_mask.flatten()\n",
        "\n",
        "        # Calculate metrics\n",
        "        dice_score = f1_score(true_mask_flat, pred_mask_flat)\n",
        "        print(dice_score)\n",
        "        precision = precision_score(true_mask_flat, pred_mask_flat)\n",
        "        print(precision)\n",
        "        accuracy = accuracy_score(true_mask_flat, pred_mask_flat)\n",
        "        auc = roc_auc_score(true_mask_flat, pred_mask_flat)\n",
        "\n",
        "        dice_scores.append(dice_score)\n",
        "        precisions.append(precision)\n",
        "        accuracies.append(accuracy)\n",
        "        aucs.append(auc)\n",
        "\n",
        "    return {\n",
        "        'Dice Coefficient': np.mean(dice_scores),\n",
        "        'Precision': np.mean(precisions),\n",
        "        'Accuracy': np.mean(accuracies),\n",
        "        'AUC': np.mean(aucs)\n",
        "    }\n"
      ],
      "metadata": {
        "id": "e0dZShotsnU5"
      },
      "execution_count": 5,
      "outputs": []
    },
    {
      "cell_type": "code",
      "source": [],
      "metadata": {
        "id": "sNEXqozuy5i7"
      },
      "execution_count": null,
      "outputs": []
    },
    {
      "cell_type": "markdown",
      "source": [
        "# Cargamos las imágenes del repositorio:"
      ],
      "metadata": {
        "id": "E4_tJ7zRy344"
      }
    },
    {
      "cell_type": "code",
      "source": [
        "!git clone https://github.com/Adrian040/FootSegmentation_4.git   # Clonamos el repositorio de archivos e imágenes."
      ],
      "metadata": {
        "colab": {
          "base_uri": "https://localhost:8080/"
        },
        "id": "bIlO2fqXsofm",
        "outputId": "36cd0ebe-0372-4018-8224-530a47abf064"
      },
      "execution_count": 6,
      "outputs": [
        {
          "output_type": "stream",
          "name": "stdout",
          "text": [
            "Cloning into 'FootSegmentation_4'...\n",
            "remote: Enumerating objects: 4371, done.\u001b[K\n",
            "remote: Counting objects: 100% (350/350), done.\u001b[K\n",
            "remote: Compressing objects: 100% (209/209), done.\u001b[K\n",
            "remote: Total 4371 (delta 163), reused 292 (delta 130), pack-reused 4021 (from 1)\u001b[K\n",
            "Receiving objects: 100% (4371/4371), 293.40 MiB | 16.68 MiB/s, done.\n",
            "Resolving deltas: 100% (1356/1356), done.\n",
            "Updating files: 100% (3983/3983), done.\n"
          ]
        }
      ]
    },
    {
      "cell_type": "markdown",
      "source": [
        "------\n",
        "###### Obtener los paths manualmente a partir de las carpetas que contienen las imagenes y los labels:"
      ],
      "metadata": {
        "id": "dLVHloDX6P6n"
      }
    },
    {
      "cell_type": "code",
      "source": [
        "import os\n",
        "\n",
        "def obtener_rutas_imagenes(carpeta, cantidad_archivos=None):\n",
        "    \"\"\"\n",
        "    Obtiene una lista de paths completos de los archivos en la carpeta dada.\n",
        "\n",
        "    :param carpeta: Ruta a la carpeta que contiene las imágenes.\n",
        "    :param cantidad_archivos: Cantidad de archivos de los cuales se obtendrá su path.\n",
        "                              Si es None, se obtienen todos los archivos.\n",
        "    :return: Lista de strings con los paths completos de los archivos.\n",
        "    \"\"\"\n",
        "    # Obtén la lista de todos los archivos en la carpeta\n",
        "    archivos = os.listdir(carpeta)\n",
        "\n",
        "    # Filtra solo los archivos (excluye carpetas)\n",
        "    archivos = [f for f in archivos if os.path.isfile(os.path.join(carpeta, f))]\n",
        "\n",
        "    # Si se especificó una cantidad, limitar el número de archivos\n",
        "    if cantidad_archivos:\n",
        "        archivos = archivos[:cantidad_archivos]\n",
        "\n",
        "    # Genera la lista de paths completos\n",
        "    rutas_completas = [os.path.join(carpeta, archivo) for archivo in archivos]\n",
        "\n",
        "    return rutas_completas"
      ],
      "metadata": {
        "id": "Dk0Rs9-cz7eo"
      },
      "execution_count": 8,
      "outputs": []
    },
    {
      "cell_type": "code",
      "source": [
        "X_train_5 = obtener_rutas_imagenes('/content/FootSegmentation_4/images-unet/train/images', cantidad_archivos=1)"
      ],
      "metadata": {
        "id": "XOHEZdvP16_l"
      },
      "execution_count": 15,
      "outputs": []
    },
    {
      "cell_type": "code",
      "source": [
        "len(X_train_5)"
      ],
      "metadata": {
        "colab": {
          "base_uri": "https://localhost:8080/"
        },
        "id": "FAkRCUso2JVp",
        "outputId": "867d950c-4b03-4a9f-a37f-d60c56bb925a"
      },
      "execution_count": 14,
      "outputs": [
        {
          "output_type": "execute_result",
          "data": {
            "text/plain": [
              "831"
            ]
          },
          "metadata": {},
          "execution_count": 14
        }
      ]
    },
    {
      "cell_type": "code",
      "source": [
        "Y_train_5 = obtener_rutas_imagenes('/content/FootSegmentation_4/images-unet/train/labels', cantidad_archivos=None)"
      ],
      "metadata": {
        "id": "ufLR-nWV2NEl"
      },
      "execution_count": 19,
      "outputs": []
    },
    {
      "cell_type": "code",
      "source": [
        "len(Y_train_5)"
      ],
      "metadata": {
        "colab": {
          "base_uri": "https://localhost:8080/"
        },
        "id": "h5FQbWJA2iKO",
        "outputId": "936d0acc-db3e-4a6b-ff14-c77ee7616e2d"
      },
      "execution_count": 20,
      "outputs": [
        {
          "output_type": "execute_result",
          "data": {
            "text/plain": [
              "732"
            ]
          },
          "metadata": {},
          "execution_count": 20
        }
      ]
    },
    {
      "cell_type": "markdown",
      "source": [
        "Checar correspondencia de las imágenes-labels"
      ],
      "metadata": {
        "id": "OdslgtaH4Pe2"
      }
    },
    {
      "cell_type": "code",
      "source": [
        "from PIL import Image\n",
        "Indx = 5"
      ],
      "metadata": {
        "id": "sOMBjGED3RRn"
      },
      "execution_count": 43,
      "outputs": []
    },
    {
      "cell_type": "code",
      "source": [
        "Image.open(X_train_5[Indx])"
      ],
      "metadata": {
        "colab": {
          "base_uri": "https://localhost:8080/",
          "height": 241
        },
        "id": "vTZWckdX3Chr",
        "outputId": "b6f083e5-200b-4c7f-9150-2c2009dc5cc1"
      },
      "execution_count": 44,
      "outputs": [
        {
          "output_type": "execute_result",
          "data": {
            "text/plain": [
              "<PIL.PngImagePlugin.PngImageFile image mode=RGB size=224x224>"
            ],
            "image/png": "[encoded data removed]"
          },
          "metadata": {},
          "execution_count": 44
        }
      ]
    },
    {
      "cell_type": "code",
      "source": [
        "Image.open(Y_train_5[Indx])"
      ],
      "metadata": {
        "colab": {
          "base_uri": "https://localhost:8080/",
          "height": 241
        },
        "id": "RolQYy9w2klW",
        "outputId": "d6460cfb-ec06-4fe6-d256-bcaf64a70d03"
      },
      "execution_count": 45,
      "outputs": [
        {
          "output_type": "execute_result",
          "data": {
            "text/plain": [
              "<PIL.PngImagePlugin.PngImageFile image mode=RGB size=224x224>"
            ],
            "image/png": "[encoded data removed]"
          },
          "metadata": {},
          "execution_count": 45
        }
      ]
    },
    {
      "cell_type": "markdown",
      "source": [
        "----------"
      ],
      "metadata": {
        "id": "zHpRy-J06btB"
      }
    },
    {
      "cell_type": "code",
      "source": [],
      "metadata": {
        "id": "FYvQOC8P4Vm2"
      },
      "execution_count": null,
      "outputs": []
    },
    {
      "cell_type": "markdown",
      "source": [
        "## Cargar los paths de las imagenes X_train y etiquetas Y_train:"
      ],
      "metadata": {
        "id": "RpOjsjWC6fFx"
      }
    },
    {
      "cell_type": "code",
      "source": [
        "import pandas as pd\n",
        "import io\n",
        "\n",
        "df = pd.read_csv('/content/FootSegmentation_4/train_images2.csv')    # df de los paths de las imágenes y los labels(masks)"
      ],
      "metadata": {
        "id": "un4phMU43PhW"
      },
      "execution_count": 7,
      "outputs": []
    },
    {
      "cell_type": "code",
      "source": [
        "X_train = [path_img for path_img in df['images']]\n",
        "Y_train = [path_mask for path_mask in df['masks']]\n",
        "\n",
        "# Conjuntos reducidos:\n",
        "ind_redc = 150\n",
        "X_train = X_train[:ind_redc]\n",
        "Y_train = Y_train[:ind_redc]"
      ],
      "metadata": {
        "id": "0VYdR7eX4cT9"
      },
      "execution_count": 8,
      "outputs": []
    },
    {
      "cell_type": "markdown",
      "source": [
        "Checamos a ojo que estén bien:"
      ],
      "metadata": {
        "id": "vb0yvfqN7oRg"
      }
    },
    {
      "cell_type": "code",
      "source": [
        "Image.open(X_train[48])"
      ],
      "metadata": {
        "colab": {
          "base_uri": "https://localhost:8080/",
          "height": 241
        },
        "id": "RqV2xayH4enL",
        "outputId": "200cb02d-bb6e-4fa3-8505-23dc6e1f5db9"
      },
      "execution_count": 9,
      "outputs": [
        {
          "output_type": "execute_result",
          "data": {
            "text/plain": [
              "<PIL.PngImagePlugin.PngImageFile image mode=RGB size=224x224>"
            ],
            "image/png": "[encoded data removed]"
          },
          "metadata": {},
          "execution_count": 9
        }
      ]
    },
    {
      "cell_type": "code",
      "source": [
        "Image.open(Y_train[48])"
      ],
      "metadata": {
        "colab": {
          "base_uri": "https://localhost:8080/",
          "height": 241
        },
        "id": "90UUTxuh5RKc",
        "outputId": "e057fd97-6665-4f72-fdcd-f99a140e7f73"
      },
      "execution_count": 10,
      "outputs": [
        {
          "output_type": "execute_result",
          "data": {
            "text/plain": [
              "<PIL.PngImagePlugin.PngImageFile image mode=RGB size=224x224>"
            ],
            "image/png": "[encoded data removed]"
          },
          "metadata": {},
          "execution_count": 10
        }
      ]
    },
    {
      "cell_type": "markdown",
      "source": [
        "Ahora sí entrenamos el modelo con la función (con CPU):"
      ],
      "metadata": {
        "id": "ONY4sKYl7r4R"
      }
    },
    {
      "cell_type": "code",
      "source": [
        "trained_unet_model = train_unet_model(X_train, Y_train, input_shape=(224, 224, 3), batch_size=16, epochs=4)   # Este es el modelo entrenado unet con tflite"
      ],
      "metadata": {
        "colab": {
          "base_uri": "https://localhost:8080/"
        },
        "id": "w05NBj2_5cv_",
        "outputId": "3660af07-1a61-4809-ce6d-40c582983e57"
      },
      "execution_count": 120,
      "outputs": [
        {
          "output_type": "stream",
          "name": "stdout",
          "text": [
            "Epoch 1/4\n",
            "\u001b[1m3/3\u001b[0m \u001b[32m━━━━━━━━━━━━━━━━━━━━\u001b[0m\u001b[37m\u001b[0m \u001b[1m207s\u001b[0m 68s/step - accuracy: 0.8498 - loss: 0.6380 - val_accuracy: 0.9530 - val_loss: 0.5655\n",
            "Epoch 2/4\n",
            "\u001b[1m3/3\u001b[0m \u001b[32m━━━━━━━━━━━━━━━━━━━━\u001b[0m\u001b[37m\u001b[0m \u001b[1m190s\u001b[0m 60s/step - accuracy: 0.9642 - loss: 0.4085 - val_accuracy: 0.9530 - val_loss: 0.3023\n",
            "Epoch 3/4\n",
            "\u001b[1m3/3\u001b[0m \u001b[32m━━━━━━━━━━━━━━━━━━━━\u001b[0m\u001b[37m\u001b[0m \u001b[1m192s\u001b[0m 59s/step - accuracy: 0.9683 - loss: 0.1684 - val_accuracy: 0.9530 - val_loss: 0.0861\n",
            "Epoch 4/4\n",
            "\u001b[1m3/3\u001b[0m \u001b[32m━━━━━━━━━━━━━━━━━━━━\u001b[0m\u001b[37m\u001b[0m \u001b[1m180s\u001b[0m 59s/step - accuracy: 0.9675 - loss: 0.0882 - val_accuracy: 0.9530 - val_loss: 0.0909\n",
            "Saved artifact at '/tmp/tmp2af8jjan'. The following endpoints are available:\n",
            "\n",
            "* Endpoint 'serve'\n",
            "  args_0 (POSITIONAL_ONLY): TensorSpec(shape=(None, 224, 224, 3), dtype=tf.float32, name='keras_tensor_46')\n",
            "Output Type:\n",
            "  TensorSpec(shape=(None, 224, 224, 1), dtype=tf.float32, name=None)\n",
            "Captures:\n",
            "  132681034982400: TensorSpec(shape=(), dtype=tf.resource, name=None)\n",
            "  132681038034400: TensorSpec(shape=(), dtype=tf.resource, name=None)\n",
            "  132681034980288: TensorSpec(shape=(), dtype=tf.resource, name=None)\n",
            "  132681034214816: TensorSpec(shape=(), dtype=tf.resource, name=None)\n",
            "  132681034217104: TensorSpec(shape=(), dtype=tf.resource, name=None)\n",
            "  132681034203376: TensorSpec(shape=(), dtype=tf.resource, name=None)\n",
            "  132681034205664: TensorSpec(shape=(), dtype=tf.resource, name=None)\n",
            "  132681034204080: TensorSpec(shape=(), dtype=tf.resource, name=None)\n",
            "  132681034208656: TensorSpec(shape=(), dtype=tf.resource, name=None)\n",
            "  132681034203904: TensorSpec(shape=(), dtype=tf.resource, name=None)\n",
            "  132681035051280: TensorSpec(shape=(), dtype=tf.resource, name=None)\n",
            "  132681035048288: TensorSpec(shape=(), dtype=tf.resource, name=None)\n",
            "  132681035039312: TensorSpec(shape=(), dtype=tf.resource, name=None)\n",
            "  132681035041600: TensorSpec(shape=(), dtype=tf.resource, name=None)\n",
            "  132681035075952: TensorSpec(shape=(), dtype=tf.resource, name=None)\n",
            "  132681035071728: TensorSpec(shape=(), dtype=tf.resource, name=None)\n",
            "  132681035079120: TensorSpec(shape=(), dtype=tf.resource, name=None)\n",
            "  132681035081408: TensorSpec(shape=(), dtype=tf.resource, name=None)\n",
            "  132681035081760: TensorSpec(shape=(), dtype=tf.resource, name=None)\n",
            "  132681035084048: TensorSpec(shape=(), dtype=tf.resource, name=None)\n"
          ]
        }
      ]
    },
    {
      "cell_type": "markdown",
      "source": [
        "Predicción de la imágen:"
      ],
      "metadata": {
        "id": "ueHDUZqQ8wPs"
      }
    },
    {
      "cell_type": "code",
      "source": [
        "path_predicted_img = df['images'][14]\n",
        "Image.open(path_predicted_img)"
      ],
      "metadata": {
        "colab": {
          "base_uri": "https://localhost:8080/",
          "height": 241
        },
        "id": "UvVZmX6I9Dtg",
        "outputId": "260a89f9-08ad-41fb-8829-837d9f1088da"
      },
      "execution_count": 11,
      "outputs": [
        {
          "output_type": "execute_result",
          "data": {
            "text/plain": [
              "<PIL.PngImagePlugin.PngImageFile image mode=RGB size=224x224>"
            ],
            "image/png": "[encoded data removed]"
          },
          "metadata": {},
          "execution_count": 11
        }
      ]
    },
    {
      "cell_type": "code",
      "source": [
        "predicted_img = predict_mask(path_predicted_img, '/content/unet_model.tflite')"
      ],
      "metadata": {
        "id": "Gy1XwXGi8Ed0"
      },
      "execution_count": 80,
      "outputs": []
    },
    {
      "cell_type": "code",
      "source": [
        "predicted_img[1]"
      ],
      "metadata": {
        "colab": {
          "base_uri": "https://localhost:8080/",
          "height": 241
        },
        "id": "dcPBlLaqCDoI",
        "outputId": "bcb7a42c-4b2d-498c-e6c1-f7394089786d"
      },
      "execution_count": 81,
      "outputs": [
        {
          "output_type": "execute_result",
          "data": {
            "text/plain": [
              "<PIL.Image.Image image mode=RGB size=224x224>"
            ],
            "image/png": "[encoded data removed]"
          },
          "metadata": {},
          "execution_count": 81
        }
      ]
    },
    {
      "cell_type": "markdown",
      "source": [
        "# Entrenamiento de la U-Net con GPU:"
      ],
      "metadata": {
        "id": "_mO1WXXR9VT8"
      }
    },
    {
      "cell_type": "code",
      "source": [
        "print(\"Num GPUs Available: \", len(tf.config.list_physical_devices('GPU')))"
      ],
      "metadata": {
        "colab": {
          "base_uri": "https://localhost:8080/"
        },
        "id": "2ABolgxcn9bR",
        "outputId": "628db115-a373-481c-c155-58050e2f10a4"
      },
      "execution_count": 12,
      "outputs": [
        {
          "output_type": "stream",
          "name": "stdout",
          "text": [
            "Num GPUs Available:  1\n"
          ]
        }
      ]
    },
    {
      "cell_type": "code",
      "source": [
        "import tensorflow as tf\n",
        "import numpy as np\n",
        "from PIL import Image\n",
        "\n",
        "def load_images(image_paths):\n",
        "    return np.array([np.array(Image.open(img).convert('RGB')) for img in image_paths])\n",
        "\n",
        "def load_masks(mask_paths):\n",
        "    return np.array([np.array(Image.open(mask).convert('L')) for mask in mask_paths])\n",
        "\n",
        "def unet_model(input_shape):\n",
        "    inputs = tf.keras.layers.Input(input_shape)\n",
        "\n",
        "    # Downsampling path\n",
        "    c1 = tf.keras.layers.Conv2D(64, (3, 3), activation='relu', padding='same')(inputs)\n",
        "    p1 = tf.keras.layers.MaxPooling2D((2, 2))(c1)\n",
        "\n",
        "    c2 = tf.keras.layers.Conv2D(128, (3, 3), activation='relu', padding='same')(p1)\n",
        "    p2 = tf.keras.layers.MaxPooling2D((2, 2))(c2)\n",
        "\n",
        "    c3 = tf.keras.layers.Conv2D(256, (3, 3), activation='relu', padding='same')(p2)\n",
        "    p3 = tf.keras.layers.MaxPooling2D((2, 2))(c3)\n",
        "\n",
        "    c4 = tf.keras.layers.Conv2D(512, (3, 3), activation='relu', padding='same')(p3)\n",
        "    p4 = tf.keras.layers.MaxPooling2D((2, 2))(c4)\n",
        "\n",
        "    c5 = tf.keras.layers.Conv2D(1024, (3, 3), activation='relu', padding='same')(p4)\n",
        "\n",
        "    # Upsampling path\n",
        "    u6 = tf.keras.layers.UpSampling2D((2, 2))(c5)\n",
        "    u6 = tf.keras.layers.concatenate([u6, c4])\n",
        "    c6 = tf.keras.layers.Conv2D(512, (3, 3), activation='relu', padding='same')(u6)\n",
        "\n",
        "    u7 = tf.keras.layers.UpSampling2D((2, 2))(c6)\n",
        "    u7 = tf.keras.layers.concatenate([u7, c3])\n",
        "    c7 = tf.keras.layers.Conv2D(256, (3, 3), activation='relu', padding='same')(u7)\n",
        "\n",
        "    u8 = tf.keras.layers.UpSampling2D((2, 2))(c7)\n",
        "    u8 = tf.keras.layers.concatenate([u8, c2])\n",
        "    c8 = tf.keras.layers.Conv2D(128, (3, 3), activation='relu', padding='same')(u8)\n",
        "\n",
        "    u9 = tf.keras.layers.UpSampling2D((2, 2))(c8)\n",
        "    u9 = tf.keras.layers.concatenate([u9, c1])\n",
        "    c9 = tf.keras.layers.Conv2D(64, (3, 3), activation='relu', padding='same')(u9)\n",
        "\n",
        "    outputs = tf.keras.layers.Conv2D(1, (1, 1), activation='sigmoid')(c9)\n",
        "\n",
        "    return tf.keras.models.Model(inputs, outputs)\n",
        "\n",
        "def train_unet_model(image_paths, mask_paths, input_shape=(128, 128, 3), batch_size=16, epochs=50):\n",
        "    images = load_images(image_paths)\n",
        "    masks = load_masks(mask_paths)\n",
        "\n",
        "    # Normalize images and masks\n",
        "    images = images / 255.0\n",
        "    masks = masks / 255.0\n",
        "\n",
        "    with tf.device('/GPU:0'):  # Cambia '/GPU:0' si tienes más de una GPU y deseas especificar una diferente\n",
        "        model = unet_model(input_shape)\n",
        "        model.compile(optimizer='adam', loss='binary_crossentropy', metrics=['accuracy'])\n",
        "\n",
        "        model.fit(images, masks, batch_size=batch_size, epochs=epochs, validation_split=0.1)\n",
        "\n",
        "        # Convert to TensorFlow Lite\n",
        "        converter = tf.lite.TFLiteConverter.from_keras_model(model)\n",
        "        tflite_model = converter.convert()\n",
        "\n",
        "    # Save the model\n",
        "    with open('unet_model_gpu.tflite', 'wb') as f:\n",
        "        f.write(tflite_model)\n",
        "\n",
        "    return tflite_model"
      ],
      "metadata": {
        "id": "6LudqOZ7oAh3"
      },
      "execution_count": 13,
      "outputs": []
    },
    {
      "cell_type": "code",
      "source": [
        "trained_unet_model = train_unet_model(X_train, Y_train, input_shape=(224, 224, 3), batch_size=16, epochs=80)"
      ],
      "metadata": {
        "colab": {
          "base_uri": "https://localhost:8080/"
        },
        "id": "it5w0uA-oMFr",
        "outputId": "18e8172d-0d4b-446f-d2d5-de138ed68c40"
      },
      "execution_count": 88,
      "outputs": [
        {
          "output_type": "stream",
          "name": "stdout",
          "text": [
            "Epoch 1/80\n",
            "\u001b[1m9/9\u001b[0m \u001b[32m━━━━━━━━━━━━━━━━━━━━\u001b[0m\u001b[37m\u001b[0m \u001b[1m51s\u001b[0m 6s/step - accuracy: 0.9348 - loss: 0.5724 - val_accuracy: 0.9773 - val_loss: 0.0927\n",
            "Epoch 2/80\n",
            "\u001b[1m9/9\u001b[0m \u001b[32m━━━━━━━━━━━━━━━━━━━━\u001b[0m\u001b[37m\u001b[0m \u001b[1m39s\u001b[0m 348ms/step - accuracy: 0.9733 - loss: 0.0791 - val_accuracy: 0.9773 - val_loss: 0.0535\n",
            "Epoch 3/80\n",
            "\u001b[1m9/9\u001b[0m \u001b[32m━━━━━━━━━━━━━━━━━━━━\u001b[0m\u001b[37m\u001b[0m \u001b[1m5s\u001b[0m 357ms/step - accuracy: 0.9744 - loss: 0.0641 - val_accuracy: 0.9773 - val_loss: 0.0501\n",
            "Epoch 4/80\n",
            "\u001b[1m9/9\u001b[0m \u001b[32m━━━━━━━━━━━━━━━━━━━━\u001b[0m\u001b[37m\u001b[0m \u001b[1m5s\u001b[0m 357ms/step - accuracy: 0.9718 - loss: 0.0652 - val_accuracy: 0.9773 - val_loss: 0.0538\n",
            "Epoch 5/80\n",
            "\u001b[1m9/9\u001b[0m \u001b[32m━━━━━━━━━━━━━━━━━━━━\u001b[0m\u001b[37m\u001b[0m \u001b[1m5s\u001b[0m 362ms/step - accuracy: 0.9726 - loss: 0.0610 - val_accuracy: 0.9773 - val_loss: 0.0641\n",
            "Epoch 6/80\n",
            "\u001b[1m9/9\u001b[0m \u001b[32m━━━━━━━━━━━━━━━━━━━━\u001b[0m\u001b[37m\u001b[0m \u001b[1m3s\u001b[0m 359ms/step - accuracy: 0.9734 - loss: 0.0616 - val_accuracy: 0.9773 - val_loss: 0.0562\n",
            "Epoch 7/80\n",
            "\u001b[1m9/9\u001b[0m \u001b[32m━━━━━━━━━━━━━━━━━━━━\u001b[0m\u001b[37m\u001b[0m \u001b[1m5s\u001b[0m 380ms/step - accuracy: 0.9741 - loss: 0.0582 - val_accuracy: 0.9773 - val_loss: 0.0452\n",
            "Epoch 8/80\n",
            "\u001b[1m9/9\u001b[0m \u001b[32m━━━━━━━━━━━━━━━━━━━━\u001b[0m\u001b[37m\u001b[0m \u001b[1m5s\u001b[0m 362ms/step - accuracy: 0.9729 - loss: 0.0573 - val_accuracy: 0.9797 - val_loss: 0.0450\n",
            "Epoch 9/80\n",
            "\u001b[1m9/9\u001b[0m \u001b[32m━━━━━━━━━━━━━━━━━━━━\u001b[0m\u001b[37m\u001b[0m \u001b[1m5s\u001b[0m 370ms/step - accuracy: 0.9783 - loss: 0.0550 - val_accuracy: 0.9819 - val_loss: 0.0407\n",
            "Epoch 10/80\n",
            "\u001b[1m9/9\u001b[0m \u001b[32m━━━━━━━━━━━━━━━━━━━━\u001b[0m\u001b[37m\u001b[0m \u001b[1m5s\u001b[0m 361ms/step - accuracy: 0.9809 - loss: 0.0515 - val_accuracy: 0.9836 - val_loss: 0.0391\n",
            "Epoch 11/80\n",
            "\u001b[1m9/9\u001b[0m \u001b[32m━━━━━━━━━━━━━━━━━━━━\u001b[0m\u001b[37m\u001b[0m \u001b[1m3s\u001b[0m 362ms/step - accuracy: 0.9816 - loss: 0.0507 - val_accuracy: 0.9826 - val_loss: 0.0447\n",
            "Epoch 12/80\n",
            "\u001b[1m9/9\u001b[0m \u001b[32m━━━━━━━━━━━━━━━━━━━━\u001b[0m\u001b[37m\u001b[0m \u001b[1m3s\u001b[0m 360ms/step - accuracy: 0.9797 - loss: 0.0477 - val_accuracy: 0.9794 - val_loss: 0.0421\n",
            "Epoch 13/80\n",
            "\u001b[1m9/9\u001b[0m \u001b[32m━━━━━━━━━━━━━━━━━━━━\u001b[0m\u001b[37m\u001b[0m \u001b[1m3s\u001b[0m 369ms/step - accuracy: 0.9827 - loss: 0.0478 - val_accuracy: 0.9824 - val_loss: 0.0407\n",
            "Epoch 14/80\n",
            "\u001b[1m9/9\u001b[0m \u001b[32m━━━━━━━━━━━━━━━━━━━━\u001b[0m\u001b[37m\u001b[0m \u001b[1m5s\u001b[0m 356ms/step - accuracy: 0.9826 - loss: 0.0459 - val_accuracy: 0.9843 - val_loss: 0.0348\n",
            "Epoch 15/80\n",
            "\u001b[1m9/9\u001b[0m \u001b[32m━━━━━━━━━━━━━━━━━━━━\u001b[0m\u001b[37m\u001b[0m \u001b[1m5s\u001b[0m 355ms/step - accuracy: 0.9821 - loss: 0.0455 - val_accuracy: 0.9843 - val_loss: 0.0366\n",
            "Epoch 16/80\n",
            "\u001b[1m9/9\u001b[0m \u001b[32m━━━━━━━━━━━━━━━━━━━━\u001b[0m\u001b[37m\u001b[0m \u001b[1m3s\u001b[0m 356ms/step - accuracy: 0.9823 - loss: 0.0444 - val_accuracy: 0.9857 - val_loss: 0.0342\n",
            "Epoch 17/80\n",
            "\u001b[1m9/9\u001b[0m \u001b[32m━━━━━━━━━━━━━━━━━━━━\u001b[0m\u001b[37m\u001b[0m \u001b[1m3s\u001b[0m 352ms/step - accuracy: 0.9836 - loss: 0.0411 - val_accuracy: 0.9860 - val_loss: 0.0334\n",
            "Epoch 18/80\n",
            "\u001b[1m9/9\u001b[0m \u001b[32m━━━━━━━━━━━━━━━━━━━━\u001b[0m\u001b[37m\u001b[0m \u001b[1m3s\u001b[0m 353ms/step - accuracy: 0.9832 - loss: 0.0429 - val_accuracy: 0.9862 - val_loss: 0.0324\n",
            "Epoch 19/80\n",
            "\u001b[1m9/9\u001b[0m \u001b[32m━━━━━━━━━━━━━━━━━━━━\u001b[0m\u001b[37m\u001b[0m \u001b[1m3s\u001b[0m 353ms/step - accuracy: 0.9851 - loss: 0.0390 - val_accuracy: 0.9863 - val_loss: 0.0322\n",
            "Epoch 20/80\n",
            "\u001b[1m9/9\u001b[0m \u001b[32m━━━━━━━━━━━━━━━━━━━━\u001b[0m\u001b[37m\u001b[0m \u001b[1m5s\u001b[0m 350ms/step - accuracy: 0.9870 - loss: 0.0342 - val_accuracy: 0.9855 - val_loss: 0.0387\n",
            "Epoch 21/80\n",
            "\u001b[1m9/9\u001b[0m \u001b[32m━━━━━━━━━━━━━━━━━━━━\u001b[0m\u001b[37m\u001b[0m \u001b[1m3s\u001b[0m 353ms/step - accuracy: 0.9862 - loss: 0.0378 - val_accuracy: 0.9851 - val_loss: 0.0341\n",
            "Epoch 22/80\n",
            "\u001b[1m9/9\u001b[0m \u001b[32m━━━━━━━━━━━━━━━━━━━━\u001b[0m\u001b[37m\u001b[0m \u001b[1m5s\u001b[0m 359ms/step - accuracy: 0.9865 - loss: 0.0347 - val_accuracy: 0.9861 - val_loss: 0.0342\n",
            "Epoch 23/80\n",
            "\u001b[1m9/9\u001b[0m \u001b[32m━━━━━━━━━━━━━━━━━━━━\u001b[0m\u001b[37m\u001b[0m \u001b[1m5s\u001b[0m 358ms/step - accuracy: 0.9855 - loss: 0.0355 - val_accuracy: 0.9862 - val_loss: 0.0319\n",
            "Epoch 24/80\n",
            "\u001b[1m9/9\u001b[0m \u001b[32m━━━━━━━━━━━━━━━━━━━━\u001b[0m\u001b[37m\u001b[0m \u001b[1m5s\u001b[0m 354ms/step - accuracy: 0.9857 - loss: 0.0352 - val_accuracy: 0.9822 - val_loss: 0.0446\n",
            "Epoch 25/80\n",
            "\u001b[1m9/9\u001b[0m \u001b[32m━━━━━━━━━━━━━━━━━━━━\u001b[0m\u001b[37m\u001b[0m \u001b[1m5s\u001b[0m 354ms/step - accuracy: 0.9852 - loss: 0.0362 - val_accuracy: 0.9844 - val_loss: 0.0346\n",
            "Epoch 26/80\n",
            "\u001b[1m9/9\u001b[0m \u001b[32m━━━━━━━━━━━━━━━━━━━━\u001b[0m\u001b[37m\u001b[0m \u001b[1m5s\u001b[0m 354ms/step - accuracy: 0.9858 - loss: 0.0341 - val_accuracy: 0.9849 - val_loss: 0.0340\n",
            "Epoch 27/80\n",
            "\u001b[1m9/9\u001b[0m \u001b[32m━━━━━━━━━━━━━━━━━━━━\u001b[0m\u001b[37m\u001b[0m \u001b[1m3s\u001b[0m 363ms/step - accuracy: 0.9870 - loss: 0.0339 - val_accuracy: 0.9856 - val_loss: 0.0336\n",
            "Epoch 28/80\n",
            "\u001b[1m9/9\u001b[0m \u001b[32m━━━━━━━━━━━━━━━━━━━━\u001b[0m\u001b[37m\u001b[0m \u001b[1m3s\u001b[0m 360ms/step - accuracy: 0.9888 - loss: 0.0288 - val_accuracy: 0.9863 - val_loss: 0.0312\n",
            "Epoch 29/80\n",
            "\u001b[1m9/9\u001b[0m \u001b[32m━━━━━━━━━━━━━━━━━━━━\u001b[0m\u001b[37m\u001b[0m \u001b[1m5s\u001b[0m 357ms/step - accuracy: 0.9898 - loss: 0.0261 - val_accuracy: 0.9868 - val_loss: 0.0358\n",
            "Epoch 30/80\n",
            "\u001b[1m9/9\u001b[0m \u001b[32m━━━━━━━━━━━━━━━━━━━━\u001b[0m\u001b[37m\u001b[0m \u001b[1m5s\u001b[0m 360ms/step - accuracy: 0.9881 - loss: 0.0290 - val_accuracy: 0.9867 - val_loss: 0.0341\n",
            "Epoch 31/80\n",
            "\u001b[1m9/9\u001b[0m \u001b[32m━━━━━━━━━━━━━━━━━━━━\u001b[0m\u001b[37m\u001b[0m \u001b[1m5s\u001b[0m 357ms/step - accuracy: 0.9891 - loss: 0.0269 - val_accuracy: 0.9872 - val_loss: 0.0344\n",
            "Epoch 32/80\n",
            "\u001b[1m9/9\u001b[0m \u001b[32m━━━━━━━━━━━━━━━━━━━━\u001b[0m\u001b[37m\u001b[0m \u001b[1m3s\u001b[0m 356ms/step - accuracy: 0.9893 - loss: 0.0267 - val_accuracy: 0.9869 - val_loss: 0.0317\n",
            "Epoch 33/80\n",
            "\u001b[1m9/9\u001b[0m \u001b[32m━━━━━━━━━━━━━━━━━━━━\u001b[0m\u001b[37m\u001b[0m \u001b[1m3s\u001b[0m 365ms/step - accuracy: 0.9895 - loss: 0.0241 - val_accuracy: 0.9858 - val_loss: 0.0342\n",
            "Epoch 34/80\n",
            "\u001b[1m9/9\u001b[0m \u001b[32m━━━━━━━━━━━━━━━━━━━━\u001b[0m\u001b[37m\u001b[0m \u001b[1m5s\u001b[0m 355ms/step - accuracy: 0.9903 - loss: 0.0248 - val_accuracy: 0.9862 - val_loss: 0.0337\n",
            "Epoch 35/80\n",
            "\u001b[1m9/9\u001b[0m \u001b[32m━━━━━━━━━━━━━━━━━━━━\u001b[0m\u001b[37m\u001b[0m \u001b[1m5s\u001b[0m 354ms/step - accuracy: 0.9914 - loss: 0.0212 - val_accuracy: 0.9869 - val_loss: 0.0323\n",
            "Epoch 36/80\n",
            "\u001b[1m9/9\u001b[0m \u001b[32m━━━━━━━━━━━━━━━━━━━━\u001b[0m\u001b[37m\u001b[0m \u001b[1m3s\u001b[0m 358ms/step - accuracy: 0.9915 - loss: 0.0212 - val_accuracy: 0.9874 - val_loss: 0.0340\n",
            "Epoch 37/80\n",
            "\u001b[1m9/9\u001b[0m \u001b[32m━━━━━━━━━━━━━━━━━━━━\u001b[0m\u001b[37m\u001b[0m \u001b[1m3s\u001b[0m 355ms/step - accuracy: 0.9909 - loss: 0.0223 - val_accuracy: 0.9873 - val_loss: 0.0342\n",
            "Epoch 38/80\n",
            "\u001b[1m9/9\u001b[0m \u001b[32m━━━━━━━━━━━━━━━━━━━━\u001b[0m\u001b[37m\u001b[0m \u001b[1m3s\u001b[0m 355ms/step - accuracy: 0.9920 - loss: 0.0199 - val_accuracy: 0.9853 - val_loss: 0.0375\n",
            "Epoch 39/80\n",
            "\u001b[1m9/9\u001b[0m \u001b[32m━━━━━━━━━━━━━━━━━━━━\u001b[0m\u001b[37m\u001b[0m \u001b[1m5s\u001b[0m 363ms/step - accuracy: 0.9908 - loss: 0.0223 - val_accuracy: 0.9867 - val_loss: 0.0332\n",
            "Epoch 40/80\n",
            "\u001b[1m9/9\u001b[0m \u001b[32m━━━━━━━━━━━━━━━━━━━━\u001b[0m\u001b[37m\u001b[0m \u001b[1m3s\u001b[0m 360ms/step - accuracy: 0.9908 - loss: 0.0215 - val_accuracy: 0.9881 - val_loss: 0.0330\n",
            "Epoch 41/80\n",
            "\u001b[1m9/9\u001b[0m \u001b[32m━━━━━━━━━━━━━━━━━━━━\u001b[0m\u001b[37m\u001b[0m \u001b[1m3s\u001b[0m 353ms/step - accuracy: 0.9920 - loss: 0.0188 - val_accuracy: 0.9859 - val_loss: 0.0385\n",
            "Epoch 42/80\n",
            "\u001b[1m9/9\u001b[0m \u001b[32m━━━━━━━━━━━━━━━━━━━━\u001b[0m\u001b[37m\u001b[0m \u001b[1m3s\u001b[0m 355ms/step - accuracy: 0.9920 - loss: 0.0188 - val_accuracy: 0.9892 - val_loss: 0.0280\n",
            "Epoch 43/80\n",
            "\u001b[1m9/9\u001b[0m \u001b[32m━━━━━━━━━━━━━━━━━━━━\u001b[0m\u001b[37m\u001b[0m \u001b[1m3s\u001b[0m 365ms/step - accuracy: 0.9939 - loss: 0.0141 - val_accuracy: 0.9877 - val_loss: 0.0351\n",
            "Epoch 44/80\n",
            "\u001b[1m9/9\u001b[0m \u001b[32m━━━━━━━━━━━━━━━━━━━━\u001b[0m\u001b[37m\u001b[0m \u001b[1m5s\u001b[0m 351ms/step - accuracy: 0.9951 - loss: 0.0120 - val_accuracy: 0.9894 - val_loss: 0.0298\n",
            "Epoch 45/80\n",
            "\u001b[1m9/9\u001b[0m \u001b[32m━━━━━━━━━━━━━━━━━━━━\u001b[0m\u001b[37m\u001b[0m \u001b[1m3s\u001b[0m 354ms/step - accuracy: 0.9950 - loss: 0.0121 - val_accuracy: 0.9881 - val_loss: 0.0347\n",
            "Epoch 46/80\n",
            "\u001b[1m9/9\u001b[0m \u001b[32m━━━━━━━━━━━━━━━━━━━━\u001b[0m\u001b[37m\u001b[0m \u001b[1m5s\u001b[0m 353ms/step - accuracy: 0.9952 - loss: 0.0119 - val_accuracy: 0.9885 - val_loss: 0.0324\n",
            "Epoch 47/80\n",
            "\u001b[1m9/9\u001b[0m \u001b[32m━━━━━━━━━━━━━━━━━━━━\u001b[0m\u001b[37m\u001b[0m \u001b[1m5s\u001b[0m 350ms/step - accuracy: 0.9950 - loss: 0.0119 - val_accuracy: 0.9865 - val_loss: 0.0443\n",
            "Epoch 48/80\n",
            "\u001b[1m9/9\u001b[0m \u001b[32m━━━━━━━━━━━━━━━━━━━━\u001b[0m\u001b[37m\u001b[0m \u001b[1m5s\u001b[0m 360ms/step - accuracy: 0.9951 - loss: 0.0119 - val_accuracy: 0.9878 - val_loss: 0.0345\n",
            "Epoch 49/80\n",
            "\u001b[1m9/9\u001b[0m \u001b[32m━━━━━━━━━━━━━━━━━━━━\u001b[0m\u001b[37m\u001b[0m \u001b[1m3s\u001b[0m 354ms/step - accuracy: 0.9951 - loss: 0.0117 - val_accuracy: 0.9883 - val_loss: 0.0364\n",
            "Epoch 50/80\n",
            "\u001b[1m9/9\u001b[0m \u001b[32m━━━━━━━━━━━━━━━━━━━━\u001b[0m\u001b[37m\u001b[0m \u001b[1m5s\u001b[0m 350ms/step - accuracy: 0.9954 - loss: 0.0111 - val_accuracy: 0.9873 - val_loss: 0.0414\n",
            "Epoch 51/80\n",
            "\u001b[1m9/9\u001b[0m \u001b[32m━━━━━━━━━━━━━━━━━━━━\u001b[0m\u001b[37m\u001b[0m \u001b[1m5s\u001b[0m 360ms/step - accuracy: 0.9954 - loss: 0.0109 - val_accuracy: 0.9877 - val_loss: 0.0410\n",
            "Epoch 52/80\n",
            "\u001b[1m9/9\u001b[0m \u001b[32m━━━━━━━━━━━━━━━━━━━━\u001b[0m\u001b[37m\u001b[0m \u001b[1m5s\u001b[0m 358ms/step - accuracy: 0.9959 - loss: 0.0099 - val_accuracy: 0.9871 - val_loss: 0.0445\n",
            "Epoch 53/80\n",
            "\u001b[1m9/9\u001b[0m \u001b[32m━━━━━━━━━━━━━━━━━━━━\u001b[0m\u001b[37m\u001b[0m \u001b[1m5s\u001b[0m 361ms/step - accuracy: 0.9961 - loss: 0.0094 - val_accuracy: 0.9894 - val_loss: 0.0375\n",
            "Epoch 54/80\n",
            "\u001b[1m9/9\u001b[0m \u001b[32m━━━━━━━━━━━━━━━━━━━━\u001b[0m\u001b[37m\u001b[0m \u001b[1m5s\u001b[0m 352ms/step - accuracy: 0.9969 - loss: 0.0074 - val_accuracy: 0.9872 - val_loss: 0.0471\n",
            "Epoch 55/80\n",
            "\u001b[1m9/9\u001b[0m \u001b[32m━━━━━━━━━━━━━━━━━━━━\u001b[0m\u001b[37m\u001b[0m \u001b[1m3s\u001b[0m 360ms/step - accuracy: 0.9969 - loss: 0.0075 - val_accuracy: 0.9882 - val_loss: 0.0470\n",
            "Epoch 56/80\n",
            "\u001b[1m9/9\u001b[0m \u001b[32m━━━━━━━━━━━━━━━━━━━━\u001b[0m\u001b[37m\u001b[0m \u001b[1m3s\u001b[0m 355ms/step - accuracy: 0.9973 - loss: 0.0065 - val_accuracy: 0.9882 - val_loss: 0.0503\n",
            "Epoch 57/80\n",
            "\u001b[1m9/9\u001b[0m \u001b[32m━━━━━━━━━━━━━━━━━━━━\u001b[0m\u001b[37m\u001b[0m \u001b[1m3s\u001b[0m 364ms/step - accuracy: 0.9975 - loss: 0.0061 - val_accuracy: 0.9891 - val_loss: 0.0471\n",
            "Epoch 58/80\n",
            "\u001b[1m9/9\u001b[0m \u001b[32m━━━━━━━━━━━━━━━━━━━━\u001b[0m\u001b[37m\u001b[0m \u001b[1m3s\u001b[0m 362ms/step - accuracy: 0.9976 - loss: 0.0059 - val_accuracy: 0.9886 - val_loss: 0.0495\n",
            "Epoch 59/80\n",
            "\u001b[1m9/9\u001b[0m \u001b[32m━━━━━━━━━━━━━━━━━━━━\u001b[0m\u001b[37m\u001b[0m \u001b[1m5s\u001b[0m 352ms/step - accuracy: 0.9978 - loss: 0.0053 - val_accuracy: 0.9889 - val_loss: 0.0514\n",
            "Epoch 60/80\n",
            "\u001b[1m9/9\u001b[0m \u001b[32m━━━━━━━━━━━━━━━━━━━━\u001b[0m\u001b[37m\u001b[0m \u001b[1m5s\u001b[0m 356ms/step - accuracy: 0.9979 - loss: 0.0050 - val_accuracy: 0.9885 - val_loss: 0.0555\n",
            "Epoch 61/80\n",
            "\u001b[1m9/9\u001b[0m \u001b[32m━━━━━━━━━━━━━━━━━━━━\u001b[0m\u001b[37m\u001b[0m \u001b[1m5s\u001b[0m 353ms/step - accuracy: 0.9981 - loss: 0.0047 - val_accuracy: 0.9885 - val_loss: 0.0623\n",
            "Epoch 62/80\n",
            "\u001b[1m9/9\u001b[0m \u001b[32m━━━━━━━━━━━━━━━━━━━━\u001b[0m\u001b[37m\u001b[0m \u001b[1m5s\u001b[0m 360ms/step - accuracy: 0.9980 - loss: 0.0049 - val_accuracy: 0.9891 - val_loss: 0.0509\n",
            "Epoch 63/80\n",
            "\u001b[1m9/9\u001b[0m \u001b[32m━━━━━━━━━━━━━━━━━━━━\u001b[0m\u001b[37m\u001b[0m \u001b[1m5s\u001b[0m 350ms/step - accuracy: 0.9981 - loss: 0.0044 - val_accuracy: 0.9877 - val_loss: 0.0598\n",
            "Epoch 64/80\n",
            "\u001b[1m9/9\u001b[0m \u001b[32m━━━━━━━━━━━━━━━━━━━━\u001b[0m\u001b[37m\u001b[0m \u001b[1m5s\u001b[0m 352ms/step - accuracy: 0.9982 - loss: 0.0045 - val_accuracy: 0.9883 - val_loss: 0.0646\n",
            "Epoch 65/80\n",
            "\u001b[1m9/9\u001b[0m \u001b[32m━━━━━━━━━━━━━━━━━━━━\u001b[0m\u001b[37m\u001b[0m \u001b[1m3s\u001b[0m 357ms/step - accuracy: 0.9982 - loss: 0.0044 - val_accuracy: 0.9890 - val_loss: 0.0546\n",
            "Epoch 66/80\n",
            "\u001b[1m9/9\u001b[0m \u001b[32m━━━━━━━━━━━━━━━━━━━━\u001b[0m\u001b[37m\u001b[0m \u001b[1m5s\u001b[0m 358ms/step - accuracy: 0.9982 - loss: 0.0043 - val_accuracy: 0.9884 - val_loss: 0.0582\n",
            "Epoch 67/80\n",
            "\u001b[1m9/9\u001b[0m \u001b[32m━━━━━━━━━━━━━━━━━━━━\u001b[0m\u001b[37m\u001b[0m \u001b[1m5s\u001b[0m 359ms/step - accuracy: 0.9979 - loss: 0.0050 - val_accuracy: 0.9891 - val_loss: 0.0556\n",
            "Epoch 68/80\n",
            "\u001b[1m9/9\u001b[0m \u001b[32m━━━━━━━━━━━━━━━━━━━━\u001b[0m\u001b[37m\u001b[0m \u001b[1m5s\u001b[0m 357ms/step - accuracy: 0.9981 - loss: 0.0045 - val_accuracy: 0.9894 - val_loss: 0.0545\n",
            "Epoch 69/80\n",
            "\u001b[1m9/9\u001b[0m \u001b[32m━━━━━━━━━━━━━━━━━━━━\u001b[0m\u001b[37m\u001b[0m \u001b[1m5s\u001b[0m 351ms/step - accuracy: 0.9982 - loss: 0.0044 - val_accuracy: 0.9887 - val_loss: 0.0642\n",
            "Epoch 70/80\n",
            "\u001b[1m9/9\u001b[0m \u001b[32m━━━━━━━━━━━━━━━━━━━━\u001b[0m\u001b[37m\u001b[0m \u001b[1m3s\u001b[0m 362ms/step - accuracy: 0.9980 - loss: 0.0047 - val_accuracy: 0.9882 - val_loss: 0.0579\n",
            "Epoch 71/80\n",
            "\u001b[1m9/9\u001b[0m \u001b[32m━━━━━━━━━━━━━━━━━━━━\u001b[0m\u001b[37m\u001b[0m \u001b[1m5s\u001b[0m 353ms/step - accuracy: 0.9984 - loss: 0.0039 - val_accuracy: 0.9888 - val_loss: 0.0565\n",
            "Epoch 72/80\n",
            "\u001b[1m9/9\u001b[0m \u001b[32m━━━━━━━━━━━━━━━━━━━━\u001b[0m\u001b[37m\u001b[0m \u001b[1m5s\u001b[0m 353ms/step - accuracy: 0.9984 - loss: 0.0039 - val_accuracy: 0.9888 - val_loss: 0.0585\n",
            "Epoch 73/80\n",
            "\u001b[1m9/9\u001b[0m \u001b[32m━━━━━━━━━━━━━━━━━━━━\u001b[0m\u001b[37m\u001b[0m \u001b[1m5s\u001b[0m 353ms/step - accuracy: 0.9982 - loss: 0.0044 - val_accuracy: 0.9885 - val_loss: 0.0594\n",
            "Epoch 74/80\n",
            "\u001b[1m9/9\u001b[0m \u001b[32m━━━━━━━━━━━━━━━━━━━━\u001b[0m\u001b[37m\u001b[0m \u001b[1m5s\u001b[0m 354ms/step - accuracy: 0.9983 - loss: 0.0040 - val_accuracy: 0.9894 - val_loss: 0.0559\n",
            "Epoch 75/80\n",
            "\u001b[1m9/9\u001b[0m \u001b[32m━━━━━━━━━━━━━━━━━━━━\u001b[0m\u001b[37m\u001b[0m \u001b[1m5s\u001b[0m 352ms/step - accuracy: 0.9986 - loss: 0.0034 - val_accuracy: 0.9889 - val_loss: 0.0641\n",
            "Epoch 76/80\n",
            "\u001b[1m9/9\u001b[0m \u001b[32m━━━━━━━━━━━━━━━━━━━━\u001b[0m\u001b[37m\u001b[0m \u001b[1m5s\u001b[0m 357ms/step - accuracy: 0.9985 - loss: 0.0035 - val_accuracy: 0.9889 - val_loss: 0.0656\n",
            "Epoch 77/80\n",
            "\u001b[1m9/9\u001b[0m \u001b[32m━━━━━━━━━━━━━━━━━━━━\u001b[0m\u001b[37m\u001b[0m \u001b[1m5s\u001b[0m 360ms/step - accuracy: 0.9987 - loss: 0.0031 - val_accuracy: 0.9892 - val_loss: 0.0637\n",
            "Epoch 78/80\n",
            "\u001b[1m9/9\u001b[0m \u001b[32m━━━━━━━━━━━━━━━━━━━━\u001b[0m\u001b[37m\u001b[0m \u001b[1m5s\u001b[0m 358ms/step - accuracy: 0.9987 - loss: 0.0031 - val_accuracy: 0.9887 - val_loss: 0.0691\n",
            "Epoch 79/80\n",
            "\u001b[1m9/9\u001b[0m \u001b[32m━━━━━━━━━━━━━━━━━━━━\u001b[0m\u001b[37m\u001b[0m \u001b[1m3s\u001b[0m 351ms/step - accuracy: 0.9986 - loss: 0.0034 - val_accuracy: 0.9887 - val_loss: 0.0702\n",
            "Epoch 80/80\n",
            "\u001b[1m9/9\u001b[0m \u001b[32m━━━━━━━━━━━━━━━━━━━━\u001b[0m\u001b[37m\u001b[0m \u001b[1m5s\u001b[0m 361ms/step - accuracy: 0.9988 - loss: 0.0029 - val_accuracy: 0.9889 - val_loss: 0.0679\n",
            "Saved artifact at '/tmp/tmpgemifdtm'. The following endpoints are available:\n",
            "\n",
            "* Endpoint 'serve'\n",
            "  args_0 (POSITIONAL_ONLY): TensorSpec(shape=(None, 224, 224, 3), dtype=tf.float32, name='keras_tensor_115')\n",
            "Output Type:\n",
            "  TensorSpec(shape=(None, 224, 224, 1), dtype=tf.float32, name=None)\n",
            "Captures:\n",
            "  136255046550624: TensorSpec(shape=(), dtype=tf.resource, name=None)\n",
            "  136255046562768: TensorSpec(shape=(), dtype=tf.resource, name=None)\n",
            "  136255046560656: TensorSpec(shape=(), dtype=tf.resource, name=None)\n",
            "  136255046564176: TensorSpec(shape=(), dtype=tf.resource, name=None)\n",
            "  136255049513120: TensorSpec(shape=(), dtype=tf.resource, name=None)\n",
            "  136255059996416: TensorSpec(shape=(), dtype=tf.resource, name=None)\n",
            "  136255049810160: TensorSpec(shape=(), dtype=tf.resource, name=None)\n",
            "  136255049817024: TensorSpec(shape=(), dtype=tf.resource, name=None)\n",
            "  136255049820544: TensorSpec(shape=(), dtype=tf.resource, name=None)\n",
            "  136255049821424: TensorSpec(shape=(), dtype=tf.resource, name=None)\n",
            "  136255029103072: TensorSpec(shape=(), dtype=tf.resource, name=None)\n",
            "  136255029105888: TensorSpec(shape=(), dtype=tf.resource, name=None)\n",
            "  136255029110288: TensorSpec(shape=(), dtype=tf.resource, name=None)\n",
            "  136255029112576: TensorSpec(shape=(), dtype=tf.resource, name=None)\n",
            "  136255029115392: TensorSpec(shape=(), dtype=tf.resource, name=None)\n",
            "  136255029115216: TensorSpec(shape=(), dtype=tf.resource, name=None)\n",
            "  136255026826576: TensorSpec(shape=(), dtype=tf.resource, name=None)\n",
            "  136255026829216: TensorSpec(shape=(), dtype=tf.resource, name=None)\n",
            "  136255026829568: TensorSpec(shape=(), dtype=tf.resource, name=None)\n",
            "  136255026831856: TensorSpec(shape=(), dtype=tf.resource, name=None)\n"
          ]
        }
      ]
    },
    {
      "cell_type": "markdown",
      "source": [
        "### Probamos con una imágen con el modelo .tflite (Regina)"
      ],
      "metadata": {
        "id": "Jlcmj747_IDx"
      }
    },
    {
      "cell_type": "code",
      "source": [
        "path_predicted_img = df['images'][34]   #Cargamos el path de una imágen del conjunto de imágenes.\n",
        "Image.open(path_predicted_img)"
      ],
      "metadata": {
        "colab": {
          "base_uri": "https://localhost:8080/",
          "height": 241
        },
        "id": "egKy-GWkr4TZ",
        "outputId": "2053ae55-06f0-4f55-ae08-08324a2eda38"
      },
      "execution_count": 13,
      "outputs": [
        {
          "output_type": "execute_result",
          "data": {
            "text/plain": [
              "<PIL.PngImagePlugin.PngImageFile image mode=RGB size=224x224>"
            ],
            "image/png": "[encoded data removed]"
          },
          "metadata": {},
          "execution_count": 13
        }
      ]
    },
    {
      "cell_type": "code",
      "source": [
        "predicted_img = predict_mask(path_predicted_img, '/content/unet_model_gpu.tflite')"
      ],
      "metadata": {
        "id": "Qv3ilGo22lGd"
      },
      "execution_count": 14,
      "outputs": []
    },
    {
      "cell_type": "code",
      "source": [
        "predicted_img[1]"
      ],
      "metadata": {
        "colab": {
          "base_uri": "https://localhost:8080/",
          "height": 241
        },
        "id": "S7-9J0U52rmv",
        "outputId": "f5fced49-7374-4cfc-a958-426394b1605a"
      },
      "execution_count": 15,
      "outputs": [
        {
          "output_type": "execute_result",
          "data": {
            "text/plain": [
              "<PIL.Image.Image image mode=RGB size=224x224>"
            ],
            "image/png": "[encoded data removed]"
          },
          "metadata": {},
          "execution_count": 15
        }
      ]
    },
    {
      "cell_type": "markdown",
      "source": [
        "# Guardar y cargar el modelo unet tflite:"
      ],
      "metadata": {
        "id": "MzU7MS3OAp-p"
      }
    },
    {
      "cell_type": "code",
      "source": [],
      "metadata": {
        "id": "v8ZR1s0vAzIN"
      },
      "execution_count": null,
      "outputs": []
    },
    {
      "cell_type": "markdown",
      "source": [
        "*Evaluación:"
      ],
      "metadata": {
        "id": "Io5X5BzK8cBh"
      }
    },
    {
      "cell_type": "code",
      "source": [
        "X_test = [path_img for path_img in df['images']]\n",
        "Y_test = [path_mask for path_mask in df['masks']]\n",
        "\n",
        "# Conjuntos reducidos:\n",
        "ind_redc = 90\n",
        "X_test = X_train[1:ind_redc]\n",
        "Y_test = Y_train[1:ind_redc]"
      ],
      "metadata": {
        "id": "xpQMGuIj8dIi"
      },
      "execution_count": 142,
      "outputs": []
    },
    {
      "cell_type": "code",
      "source": [
        "metrics = evaluate_model(X_test, Y_test, '/content/unet_model_gpu.tflite')"
      ],
      "metadata": {
        "id": "2M8MQp048lra"
      },
      "execution_count": 154,
      "outputs": []
    },
    {
      "cell_type": "code",
      "source": [
        "# return {\n",
        "#         'Dice Coefficient': np.mean(dice_scores),\n",
        "#         'Precision': np.mean(precisions),\n",
        "#         'Accuracy': np.mean(accuracies),\n",
        "#         'AUC': np.mean(aucs)\n",
        "#     }\n",
        "metrics['precision']"
      ],
      "metadata": {
        "colab": {
          "base_uri": "https://localhost:8080/"
        },
        "id": "bGFciajS88xQ",
        "outputId": "bc5a690c-ff93-43d8-ba15-81c2d1713a9b"
      },
      "execution_count": 156,
      "outputs": [
        {
          "output_type": "execute_result",
          "data": {
            "text/plain": [
              "nan"
            ]
          },
          "metadata": {},
          "execution_count": 156
        }
      ]
    },
    {
      "cell_type": "code",
      "source": [
        "import numpy as np\n",
        "from sklearn.metrics import accuracy_score, precision_score, roc_auc_score\n",
        "import tensorflow as tf\n",
        "\n",
        "def dice_coefficient(y_true, y_pred, smooth=1e-6):\n",
        "    y_true_f = tf.reshape(y_true, [-1])\n",
        "    y_pred_f = tf.reshape(y_pred, [-1])\n",
        "    intersection = tf.reduce_sum(y_true_f * y_pred_f)\n",
        "    return (2. * intersection + smooth) / (tf.reduce_sum(y_true_f) + tf.reduce_sum(y_pred_f) + smooth)\n",
        "\n",
        "def evaluate_model(X_test, Y_test, tflite_model_path):\n",
        "    # Load the TFLite model and allocate tensors\n",
        "    interpreter = tf.lite.Interpreter(model_path=tflite_model_path)\n",
        "    interpreter.allocate_tensors()\n",
        "\n",
        "    input_details = interpreter.get_input_details()\n",
        "    output_details = interpreter.get_output_details()\n",
        "\n",
        "    dice_scores = []\n",
        "    precisions = []\n",
        "    accuracies = []\n",
        "    aucs = []\n",
        "\n",
        "    for i in range(len(X_test)):\n",
        "        image = Image.open(X_test[i]).convert('RGB')\n",
        "        input_data = np.array(image) / 255.0\n",
        "        input_data = np.expand_dims(input_data, axis=0).astype(np.float32)\n",
        "\n",
        "        # Set the input tensor\n",
        "        interpreter.set_tensor(input_details[0]['index'], input_data)\n",
        "\n",
        "        # Run inference\n",
        "        interpreter.invoke()\n",
        "\n",
        "        # Get the output (predicted mask)\n",
        "        y_pred = interpreter.get_tensor(output_details[0]['index'])[0]\n",
        "\n",
        "        # Reshape and threshold predicted mask\n",
        "        y_pred = np.squeeze(y_pred)\n",
        "        y_pred = (y_pred > 0.5).astype(np.uint8)\n",
        "\n",
        "        # Reshape ground truth mask\n",
        "        y_true = Image.open(Y_test[i]).convert('L')\n",
        "        y_true = np.array(y_true) / 255.0\n",
        "        y_true = (y_true > 0.5).astype(np.uint8)\n",
        "\n",
        "        # Calculate Dice coefficient\n",
        "        dice = dice_coefficient(y_true, y_pred)\n",
        "        dice_scores.append(dice.numpy())\n",
        "\n",
        "        # Calculate Precision\n",
        "        precision = precision_score(y_true.flatten(), y_pred.flatten(), zero_division=1)\n",
        "        precisions.append(precision)\n",
        "        print(precision)\n",
        "\n",
        "        # Calculate Accuracy\n",
        "        accuracy = accuracy_score(y_true.flatten(), y_pred.flatten())\n",
        "        accuracies.append(accuracy)\n",
        "\n",
        "        # Calculate AUC\n",
        "        try:\n",
        "            auc = roc_auc_score(y_true.flatten(), y_pred.flatten())\n",
        "            aucs.append(auc)\n",
        "        except ValueError:\n",
        "            # Handle cases where AUC calculation fails (e.g., when all true labels are the same)\n",
        "            aucs.append(np.nan)\n",
        "\n",
        "    # Compile metrics into a dictionary\n",
        "    metrics = {\n",
        "        'dice_coefficient': dice_scores,\n",
        "        'precision': np.nanmean(precisions),\n",
        "        'accuracy': np.nanmean(accuracies),\n",
        "        'auc': np.nanmean(aucs)\n",
        "    }\n",
        "\n",
        "    return metrics\n"
      ],
      "metadata": {
        "id": "S6UdWjil9Bpk"
      },
      "execution_count": 148,
      "outputs": []
    },
    {
      "cell_type": "code",
      "source": [
        "import numpy as np\n",
        "from sklearn.metrics import accuracy_score, precision_score, roc_auc_score\n",
        "import tensorflow as tf\n",
        "from PIL import Image\n",
        "\n",
        "def dice_coefficient(y_true, y_pred, smooth=1e-6):\n",
        "    y_true_f = y_true.flatten()\n",
        "    y_pred_f = y_pred.flatten()\n",
        "    intersection = np.sum(y_true_f * y_pred_f)\n",
        "    return (2. * intersection + smooth) / (np.sum(y_true_f) + np.sum(y_pred_f) + smooth)\n",
        "\n",
        "def evaluate_model(X_test, Y_test, tflite_model_path):\n",
        "    # Load the TFLite model and allocate tensors\n",
        "    interpreter = tf.lite.Interpreter(model_path=tflite_model_path)\n",
        "    interpreter.allocate_tensors()\n",
        "\n",
        "    input_details = interpreter.get_input_details()\n",
        "    output_details = interpreter.get_output_details()\n",
        "\n",
        "    dice_scores = []\n",
        "    precisions = []\n",
        "    accuracies = []\n",
        "    aucs = []\n",
        "\n",
        "    for i in range(len(X_test)):\n",
        "        # Load and preprocess the image\n",
        "        image = Image.open(X_test[i]).convert('RGB')\n",
        "        input_data = np.array(image) / 255.0\n",
        "        input_data = np.expand_dims(input_data, axis=0).astype(np.float32)\n",
        "\n",
        "        # Set the input tensor\n",
        "        interpreter.set_tensor(input_details[0]['index'], input_data)\n",
        "\n",
        "        # Run inference\n",
        "        interpreter.invoke()\n",
        "\n",
        "        # Get the output (predicted mask)\n",
        "        y_pred = interpreter.get_tensor(output_details[0]['index'])[0]\n",
        "\n",
        "        # Ensure predicted mask is binary\n",
        "        y_pred = np.squeeze(y_pred)\n",
        "        y_pred = (y_pred > 0.5).astype(np.uint8)\n",
        "\n",
        "        # Load the ground truth mask\n",
        "        y_true = Image.open(Y_test[i]).convert('L')\n",
        "        y_true = np.array(y_true) / 255.0\n",
        "        y_true = (y_true > 0.5).astype(np.uint8)\n",
        "\n",
        "        # Check if the masks are non-empty\n",
        "        if np.sum(y_true) == 0 or np.sum(y_pred) == 0:\n",
        "            continue\n",
        "\n",
        "        # Calculate Dice coefficient\n",
        "        dice = dice_coefficient(y_true, y_pred)\n",
        "        dice_scores.append(dice)\n",
        "\n",
        "        # Calculate Precision\n",
        "        precision = precision_score(y_true.flatten(), y_pred.flatten(), zero_division=1)\n",
        "        precisions.append(precision)\n",
        "\n",
        "        # Calculate Accuracy\n",
        "        accuracy = accuracy_score(y_true.flatten(), y_pred.flatten())\n",
        "        accuracies.append(accuracy)\n",
        "\n",
        "        # Calculate AUC\n",
        "        try:\n",
        "            auc = roc_auc_score(y_true.flatten(), y_pred.flatten())\n",
        "            aucs.append(auc)\n",
        "        except ValueError:\n",
        "            aucs.append(np.nan)\n",
        "\n",
        "    # If lists are still empty, return NaNs\n",
        "    if len(dice_scores) == 0:\n",
        "        return {\n",
        "            'dice_coefficient': np.nan,\n",
        "            'precision': np.nan,\n",
        "            'accuracy': np.nan,\n",
        "            'auc': np.nan\n",
        "        }\n",
        "\n",
        "    # Compile metrics into a dictionary\n",
        "    metrics = {\n",
        "        'dice_coefficient': np.nanmean(dice_scores),\n",
        "        'precision': np.nanmean(precisions),\n",
        "        'accuracy': np.nanmean(accuracies),\n",
        "        'auc': np.nanmean(aucs)\n",
        "    }\n",
        "\n",
        "    return metrics\n"
      ],
      "metadata": {
        "id": "VTQ1uoTx-kzi"
      },
      "execution_count": 153,
      "outputs": []
    },
    {
      "cell_type": "code",
      "source": [],
      "metadata": {
        "id": "DvIHvcCPAc7l"
      },
      "execution_count": null,
      "outputs": []
    }
  ]
}